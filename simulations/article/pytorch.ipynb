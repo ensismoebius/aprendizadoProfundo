{
 "cells": [
  {
   "cell_type": "code",
   "execution_count": 1,
   "id": "05680a0c-ea3b-4a00-9514-884182a7b5d6",
   "metadata": {},
   "outputs": [
    {
     "name": "stdout",
     "output_type": "stream",
     "text": [
      "Using cpu device\n",
      "NeuralNetwork(\n",
      "  (flatten): Flatten(start_dim=1, end_dim=-1)\n",
      "  (linear_relu_stack): Sequential(\n",
      "    (0): Linear(in_features=784, out_features=512, bias=True)\n",
      "    (1): ReLU()\n",
      "    (2): Linear(in_features=512, out_features=512, bias=True)\n",
      "    (3): ReLU()\n",
      "    (4): Linear(in_features=512, out_features=10, bias=True)\n",
      "  )\n",
      ")\n"
     ]
    }
   ],
   "source": [
    "import os\n",
    "import torch\n",
    "from torch import nn\n",
    "from torch.utils.data import DataLoader\n",
    "from torchvision import datasets, transforms\n",
    "\n",
    "device = (\n",
    "    \"cuda\" if torch.cuda.is_available() else \n",
    "    \"mps\" if torch.backends.mps.is_available() else \"cpu\"\n",
    ")\n",
    "print(f\"Using {device} device\")\n",
    "\n",
    "class NeuralNetwork(nn.Module):\n",
    "    def __init__(self):\n",
    "        super().__init__()\n",
    "        self.flatten = nn.Flatten()\n",
    "        self.linear_relu_stack = nn.Sequential(\n",
    "            nn.Linear(28*28, 512),\n",
    "            nn.ReLU(),\n",
    "            nn.Linear(512, 512),\n",
    "            nn.ReLU(),\n",
    "            nn.Linear(512, 10),\n",
    "        )\n",
    "\n",
    "    def forward(self, x):\n",
    "        x = self.flatten(x)\n",
    "        logits = self.linear_relu_stack(x)\n",
    "        return logits\n",
    "\n",
    "model = NeuralNetwork().to(device)\n",
    "print(model)"
   ]
  },
  {
   "cell_type": "code",
   "execution_count": 5,
   "id": "8c5adc0e-6367-4f14-9527-7b280b462ff8",
   "metadata": {},
   "outputs": [],
   "source": [
    "import matplotlib.pyplot as plt\n",
    "\n",
    "def show_image(tensor):\n",
    "    # Convert the tensor to a NumPy array and remove any single-dimensional entries\n",
    "    image = tensor.squeeze().cpu().detach().numpy()\n",
    "\n",
    "    # Display the image using matplotlib\n",
    "    plt.imshow(image, cmap='gray')\n",
    "    plt.axis('off')  # Turn off axis labels\n",
    "    plt.show()\n"
   ]
  },
  {
   "cell_type": "code",
   "execution_count": 6,
   "id": "90ef91ab-db0e-4943-958b-86e008292a4f",
   "metadata": {},
   "outputs": [],
   "source": [
    "X = torch.rand(1, 28, 28, device=device)"
   ]
  },
  {
   "cell_type": "code",
   "execution_count": 7,
   "id": "dca7b98e-c289-4b37-bdee-cce4bfa8ecce",
   "metadata": {},
   "outputs": [
    {
     "data": {
      "image/png": "[encoded data removed]",
      "text/plain": [
       "<Figure size 640x480 with 1 Axes>"
      ]
     },
     "metadata": {},
     "output_type": "display_data"
    }
   ],
   "source": [
    "show_image(X)"
   ]
  },
  {
   "cell_type": "code",
   "execution_count": 8,
   "id": "8d500e3c-e6c6-4419-b1f1-bdd53cad5c25",
   "metadata": {},
   "outputs": [],
   "source": [
    "logits = model(X)\n",
    "pred_probab = nn.Softmax(dim=1)(logits)\n",
    "y_pred = pred_probab.argmax(1)"
   ]
  },
  {
   "cell_type": "code",
   "execution_count": 10,
   "id": "3c6e5c02-7201-4153-839b-80dd31b6ac2d",
   "metadata": {},
   "outputs": [
    {
     "data": {
      "text/plain": [
       "tensor([[-0.0762, -0.0762,  0.0200,  0.0503,  0.0113, -0.0332,  0.0587, -0.0059,\n",
       "          0.0276,  0.1030]], grad_fn=<AddmmBackward0>)"
      ]
     },
     "execution_count": 10,
     "metadata": {},
     "output_type": "execute_result"
    }
   ],
   "source": [
    "logits"
   ]
  },
  {
   "cell_type": "code",
   "execution_count": 11,
   "id": "4ec92236-92c8-464f-82b7-74dba353f38a",
   "metadata": {},
   "outputs": [
    {
     "data": {
      "text/plain": [
       "tensor([[0.0918, 0.0918, 0.1011, 0.1042, 0.1002, 0.0958, 0.1050, 0.0985, 0.1018,\n",
       "         0.1098]], grad_fn=<SoftmaxBackward0>)"
      ]
     },
     "execution_count": 11,
     "metadata": {},
     "output_type": "execute_result"
    }
   ],
   "source": [
    "pred_probab"
   ]
  },
  {
   "cell_type": "code",
   "execution_count": 12,
   "id": "0e5f9ae1-6fdc-46c2-b658-95fdc67d37fb",
   "metadata": {},
   "outputs": [
    {
     "data": {
      "text/plain": [
       "tensor([9])"
      ]
     },
     "execution_count": 12,
     "metadata": {},
     "output_type": "execute_result"
    }
   ],
   "source": [
    "y_pred"
   ]
  },
  {
   "cell_type": "code",
   "execution_count": 15,
   "id": "585c1a7d-3e46-4b43-823b-fea3ef1d6215",
   "metadata": {},
   "outputs": [
    {
     "name": "stdout",
     "output_type": "stream",
     "text": [
      "Predicted class: 9\n"
     ]
    }
   ],
   "source": [
    "print(f\"Predicted class: {y_pred.item()}\")"
   ]
  },
  {
   "cell_type": "markdown",
   "id": "e745d56c-c3fd-4b37-8364-6e048d4675aa",
   "metadata": {},
   "source": [
    "# Testting FashionMNIST model"
   ]
  },
  {
   "cell_type": "markdown",
   "id": "b64525e0-7b5e-4027-9488-7660628a22c7",
   "metadata": {},
   "source": [
    "## Create a batch of 3 images 28x28"
   ]
  },
  {
   "cell_type": "code",
   "execution_count": 19,
   "id": "06cf5b04-5ffe-4d99-b08e-6756b4aad0f3",
   "metadata": {},
   "outputs": [],
   "source": [
    "input_image = torch.rand(3,28,28)"
   ]
  },
  {
   "cell_type": "code",
   "execution_count": 25,
   "id": "52642b65-d5d7-4cc2-a6f4-63350c722d71",
   "metadata": {},
   "outputs": [
    {
     "data": {
      "image/png": "[encoded data removed]",
      "text/plain": [
       "<Figure size 640x480 with 1 Axes>"
      ]
     },
     "metadata": {},
     "output_type": "display_data"
    }
   ],
   "source": [
    "show_image(input_image[1])"
   ]
  },
  {
   "cell_type": "markdown",
   "id": "a7cc83b2-e9ca-42df-8bb9-d0ec1f1db2df",
   "metadata": {},
   "source": [
    "## Flatten the images\n",
    "We initialize the nn.Flatten layer to convert each 2D 28x28 image into a contiguous array of 784 pixel values"
   ]
  },
  {
   "cell_type": "code",
   "execution_count": 26,
   "id": "635824c4-26a0-41dd-b6fa-a8bb116cac8e",
   "metadata": {},
   "outputs": [],
   "source": [
    "flatten = nn.Flatten()\n",
    "flat_image = flatten(input_image)"
   ]
  },
  {
   "cell_type": "code",
   "execution_count": 29,
   "id": "fd75e570-f39c-425e-9497-107d98c07706",
   "metadata": {},
   "outputs": [
    {
     "data": {
      "text/plain": [
       "tensor([[0.7769, 0.4372, 0.7297,  ..., 0.6061, 0.1965, 0.9064],\n",
       "        [0.0423, 0.3817, 0.1223,  ..., 0.9461, 0.0452, 0.7559],\n",
       "        [0.5202, 0.4208, 0.5009,  ..., 0.1683, 0.8118, 0.2311]])"
      ]
     },
     "execution_count": 29,
     "metadata": {},
     "output_type": "execute_result"
    }
   ],
   "source": [
    "flat_image"
   ]
  },
  {
   "cell_type": "code",
   "execution_count": 30,
   "id": "0affad25-d0f0-4291-9320-5e4ee704d5b5",
   "metadata": {},
   "outputs": [
    {
     "name": "stdout",
     "output_type": "stream",
     "text": [
      "torch.Size([3, 20])\n"
     ]
    }
   ],
   "source": [
    "# Creates layer 1\n",
    "layer1 = nn.Linear(in_features=28*28, out_features=20)\n",
    "\n",
    "# Pass flatened image through layer 1\n",
    "hidden1 = layer1(flat_image)\n",
    "print(hidden1.size())"
   ]
  },
  {
   "cell_type": "code",
   "execution_count": 34,
   "id": "8b5452a9-5c74-479e-a0f6-85dc7b0150a4",
   "metadata": {},
   "outputs": [
    {
     "name": "stdout",
     "output_type": "stream",
     "text": [
      "Before ReLU: tensor([[-0.4360,  0.1085,  0.1106,  0.1953,  0.1130, -0.2292,  0.1454,  0.5224,\n",
      "         -0.5608,  0.1884, -0.3556,  0.1560, -0.0892,  0.1550, -0.0469, -0.1570,\n",
      "         -0.7833,  0.0854, -0.0206,  0.2918],\n",
      "        [-0.3986,  0.3361,  0.1137, -0.0070, -0.0766, -0.2636,  0.2313,  0.2418,\n",
      "         -0.4774, -0.0963, -0.3627, -0.2623,  0.0751,  0.1299,  0.1832, -0.2319,\n",
      "         -0.6678,  0.2547,  0.0949,  0.1678],\n",
      "        [ 0.1630,  0.6507,  0.3589, -0.0930, -0.1221,  0.1049,  0.0045,  0.5850,\n",
      "         -0.3027, -0.0362, -0.2948,  0.0199, -0.1231, -0.0386,  0.1364, -0.3910,\n",
      "         -0.4332,  0.2936,  0.1117,  0.1400]], grad_fn=<AddmmBackward0>)\n",
      "\n",
      "\n",
      "After ReLU: tensor([[0.0000, 0.1085, 0.1106, 0.1953, 0.1130, 0.0000, 0.1454, 0.5224, 0.0000,\n",
      "         0.1884, 0.0000, 0.1560, 0.0000, 0.1550, 0.0000, 0.0000, 0.0000, 0.0854,\n",
      "         0.0000, 0.2918],\n",
      "        [0.0000, 0.3361, 0.1137, 0.0000, 0.0000, 0.0000, 0.2313, 0.2418, 0.0000,\n",
      "         0.0000, 0.0000, 0.0000, 0.0751, 0.1299, 0.1832, 0.0000, 0.0000, 0.2547,\n",
      "         0.0949, 0.1678],\n",
      "        [0.1630, 0.6507, 0.3589, 0.0000, 0.0000, 0.1049, 0.0045, 0.5850, 0.0000,\n",
      "         0.0000, 0.0000, 0.0199, 0.0000, 0.0000, 0.1364, 0.0000, 0.0000, 0.2936,\n",
      "         0.1117, 0.1400]], grad_fn=<ReluBackward0>)\n"
     ]
    }
   ],
   "source": [
    "print(f\"Before ReLU: {hidden1}\\n\\n\")\n",
    "hidden1 = nn.ReLU()(hidden1)\n",
    "print(f\"After ReLU: {hidden1}\")"
   ]
  },
  {
   "cell_type": "markdown",
   "id": "05768428-6de4-46d6-85c3-0f163351f418",
   "metadata": {},
   "source": [
    "# nn.Sequential is an ordered container of modules. The data is passed through all the modules in the same order as defined. You can use sequential containers to put together a quick network like seq_modules."
   ]
  },
  {
   "cell_type": "code",
   "execution_count": 38,
   "id": "e2c4d549-9518-44c2-b698-cdaa55d13e26",
   "metadata": {},
   "outputs": [],
   "source": [
    "# Creates the container\n",
    "seq_modules = nn.Sequential(\n",
    "    flatten,\n",
    "    layer1,\n",
    "    nn.ReLU(),\n",
    "    nn.Linear(20, 10)\n",
    ")\n",
    "\n",
    "# Create a new batch of 3 images\n",
    "input_image = torch.rand(3,28,28)\n",
    "\n",
    "# Store the final results\n",
    "logits = seq_modules(input_image)"
   ]
  },
  {
   "cell_type": "code",
   "execution_count": 39,
   "id": "544367aa-bae8-4785-872b-6e9c464d5180",
   "metadata": {},
   "outputs": [
    {
     "data": {
      "text/plain": [
       "tensor([[-0.1533, -0.0845, -0.0153, -0.2542, -0.1884, -0.1674,  0.2516, -0.2270,\n",
       "          0.3155, -0.1679],\n",
       "        [-0.2156, -0.1282, -0.1049, -0.1977, -0.1779, -0.1593,  0.3002, -0.0966,\n",
       "          0.3061, -0.1738],\n",
       "        [-0.1221, -0.0743, -0.3077, -0.2183, -0.2230, -0.1221,  0.2228, -0.0305,\n",
       "          0.2440, -0.2325]], grad_fn=<AddmmBackward0>)"
      ]
     },
     "execution_count": 39,
     "metadata": {},
     "output_type": "execute_result"
    }
   ],
   "source": [
    "logits"
   ]
  },
  {
   "cell_type": "markdown",
   "id": "2d2aad96-0762-42d0-8384-60e88a28d604",
   "metadata": {},
   "source": [
    "# The last linear layer of the neural network returns logits - raw values in [-infty, infty] - which are passed to the nn.Softmax module. The logits are scaled to values [0, 1] representing the model’s predicted probabilities for each class. dim parameter indicates the dimension along which the values must sum to 1."
   ]
  },
  {
   "cell_type": "code",
   "execution_count": 43,
   "id": "330fbddc-aa3c-4bd6-8e0e-07ccead4db42",
   "metadata": {},
   "outputs": [],
   "source": [
    "softmax = nn.Softmax(dim=1)\n",
    "pred_probab = softmax(logits)"
   ]
  },
  {
   "cell_type": "code",
   "execution_count": 44,
   "id": "6cba0184-8065-46a5-8b1d-95013f8ab96a",
   "metadata": {},
   "outputs": [
    {
     "data": {
      "text/plain": [
       "tensor([[0.0902, 0.0966, 0.1035, 0.0815, 0.0871, 0.0889, 0.1352, 0.0838, 0.1441,\n",
       "         0.0889],\n",
       "        [0.0844, 0.0921, 0.0943, 0.0859, 0.0876, 0.0893, 0.1413, 0.0950, 0.1422,\n",
       "         0.0880],\n",
       "        [0.0949, 0.0995, 0.0788, 0.0862, 0.0858, 0.0949, 0.1340, 0.1040, 0.1369,\n",
       "         0.0850]], grad_fn=<SoftmaxBackward0>)"
      ]
     },
     "execution_count": 44,
     "metadata": {},
     "output_type": "execute_result"
    }
   ],
   "source": [
    "pred_probab"
   ]
  },
  {
   "cell_type": "code",
   "execution_count": 45,
   "id": "fa17272c-c0a1-44f4-ac05-33d5c579116b",
   "metadata": {},
   "outputs": [
    {
     "name": "stdout",
     "output_type": "stream",
     "text": [
      "Model structure: NeuralNetwork(\n",
      "  (flatten): Flatten(start_dim=1, end_dim=-1)\n",
      "  (linear_relu_stack): Sequential(\n",
      "    (0): Linear(in_features=784, out_features=512, bias=True)\n",
      "    (1): ReLU()\n",
      "    (2): Linear(in_features=512, out_features=512, bias=True)\n",
      "    (3): ReLU()\n",
      "    (4): Linear(in_features=512, out_features=10, bias=True)\n",
      "  )\n",
      ")\n",
      "\n",
      "\n",
      "Layer: linear_relu_stack.0.weight | Size: torch.Size([512, 784]) | Values : tensor([[-0.0272,  0.0258, -0.0078,  ...,  0.0004,  0.0254, -0.0070],\n",
      "        [-0.0287, -0.0199, -0.0352,  ...,  0.0344, -0.0054, -0.0015]],\n",
      "       grad_fn=<SliceBackward0>) \n",
      "\n",
      "Layer: linear_relu_stack.0.bias | Size: torch.Size([512]) | Values : tensor([-0.0058, -0.0334], grad_fn=<SliceBackward0>) \n",
      "\n",
      "Layer: linear_relu_stack.2.weight | Size: torch.Size([512, 512]) | Values : tensor([[-0.0070,  0.0244,  0.0218,  ...,  0.0349,  0.0007, -0.0142],\n",
      "        [-0.0094, -0.0102,  0.0428,  ...,  0.0386, -0.0320, -0.0274]],\n",
      "       grad_fn=<SliceBackward0>) \n",
      "\n",
      "Layer: linear_relu_stack.2.bias | Size: torch.Size([512]) | Values : tensor([ 0.0032, -0.0285], grad_fn=<SliceBackward0>) \n",
      "\n",
      "Layer: linear_relu_stack.4.weight | Size: torch.Size([10, 512]) | Values : tensor([[ 0.0031, -0.0246, -0.0016,  ...,  0.0060, -0.0318, -0.0430],\n",
      "        [ 0.0347,  0.0079, -0.0206,  ..., -0.0160,  0.0236, -0.0114]],\n",
      "       grad_fn=<SliceBackward0>) \n",
      "\n",
      "Layer: linear_relu_stack.4.bias | Size: torch.Size([10]) | Values : tensor([-0.0177,  0.0380], grad_fn=<SliceBackward0>) \n",
      "\n"
     ]
    }
   ],
   "source": [
    "print(f\"Model structure: {model}\\n\\n\")\n",
    "\n",
    "for name, param in model.named_parameters():\n",
    "    print(f\"Layer: {name} | Size: {param.size()} | Values : {param[:2]} \\n\")"
   ]
  },
  {
   "cell_type": "markdown",
   "id": "92591161-088a-413b-9e3f-12b51de22f19",
   "metadata": {},
   "source": [
    "# Automatic Differentiation with torch.autograd"
   ]
  },
  {
   "cell_type": "code",
   "execution_count": 46,
   "id": "193eb7d8-8560-4436-8ba7-a323188a735c",
   "metadata": {},
   "outputs": [],
   "source": [
    "import torch\n",
    "\n",
    "x = torch.ones(5)  # input tensor\n",
    "y = torch.zeros(3)  # expected output\n",
    "w = torch.randn(5, 3, requires_grad=True)\n",
    "b = torch.randn(3, requires_grad=True)\n",
    "z = torch.matmul(x, w)+b\n",
    "loss = torch.nn.functional.binary_cross_entropy_with_logits(z, y)"
   ]
  },
  {
   "cell_type": "code",
   "execution_count": 48,
   "id": "bb9223dd-45c1-475e-b322-f762adf7250c",
   "metadata": {},
   "outputs": [
    {
     "data": {
      "text/plain": [
       "tensor([1., 1., 1., 1., 1.])"
      ]
     },
     "execution_count": 48,
     "metadata": {},
     "output_type": "execute_result"
    }
   ],
   "source": [
    "x"
   ]
  },
  {
   "cell_type": "code",
   "execution_count": 49,
   "id": "1dca6945-95cd-4a47-87a1-a684ff80f770",
   "metadata": {},
   "outputs": [
    {
     "data": {
      "text/plain": [
       "tensor([0., 0., 0.])"
      ]
     },
     "execution_count": 49,
     "metadata": {},
     "output_type": "execute_result"
    }
   ],
   "source": [
    "y"
   ]
  },
  {
   "cell_type": "code",
   "execution_count": 50,
   "id": "3f4aae59-1ece-4374-9cdd-0d9158a9c66b",
   "metadata": {},
   "outputs": [
    {
     "data": {
      "text/plain": [
       "tensor([[ 7.4669e-01, -7.3470e-01, -8.2498e-01],\n",
       "        [ 4.5920e-01,  6.9379e-01,  1.8957e+00],\n",
       "        [ 1.8866e+00, -1.7621e-01,  4.2464e-01],\n",
       "        [ 7.5770e-04, -6.6432e-01, -8.1674e-01],\n",
       "        [-1.8108e-01, -3.2115e-01,  8.0039e-02]], requires_grad=True)"
      ]
     },
     "execution_count": 50,
     "metadata": {},
     "output_type": "execute_result"
    }
   ],
   "source": [
    "w"
   ]
  },
  {
   "cell_type": "code",
   "execution_count": 51,
   "id": "ba25827f-d18f-46e4-af6b-b515c03869f3",
   "metadata": {},
   "outputs": [
    {
     "data": {
      "text/plain": [
       "tensor([-0.8552,  0.7549, -0.0402], requires_grad=True)"
      ]
     },
     "execution_count": 51,
     "metadata": {},
     "output_type": "execute_result"
    }
   ],
   "source": [
    "b"
   ]
  },
  {
   "cell_type": "code",
   "execution_count": 52,
   "id": "8df0b061-bb9e-4228-8ccf-85a688994fb9",
   "metadata": {},
   "outputs": [
    {
     "data": {
      "text/plain": [
       "tensor([ 2.0570, -0.4477,  0.7185], grad_fn=<AddBackward0>)"
      ]
     },
     "execution_count": 52,
     "metadata": {},
     "output_type": "execute_result"
    }
   ],
   "source": [
    "z"
   ]
  },
  {
   "cell_type": "code",
   "execution_count": 53,
   "id": "7cd33d99-d76f-49be-9e49-b0cacb2aaf89",
   "metadata": {},
   "outputs": [
    {
     "data": {
      "text/plain": [
       "tensor(1.2623, grad_fn=<BinaryCrossEntropyWithLogitsBackward0>)"
      ]
     },
     "execution_count": 53,
     "metadata": {},
     "output_type": "execute_result"
    }
   ],
   "source": [
    "loss"
   ]
  },
  {
   "cell_type": "code",
   "execution_count": 54,
   "id": "9e308e54-fc9b-4599-ad2c-78ab44959e59",
   "metadata": {},
   "outputs": [
    {
     "name": "stdout",
     "output_type": "stream",
     "text": [
      "Gradient function for z = <AddBackward0 object at 0x7f885d3855d0>\n",
      "Gradient function for loss = <BinaryCrossEntropyWithLogitsBackward0 object at 0x7f885d3854b0>\n"
     ]
    }
   ],
   "source": [
    "print(f\"Gradient function for z = {z.grad_fn}\")\n",
    "print(f\"Gradient function for loss = {loss.grad_fn}\")"
   ]
  },
  {
   "cell_type": "markdown",
   "id": "0d32caab-c1f2-4140-8255-3a1dabcce39b",
   "metadata": {},
   "source": [
    "# Computing Gradients"
   ]
  },
  {
   "cell_type": "code",
   "execution_count": 55,
   "id": "693d8e91-0f58-45c6-b12d-096cd9180d93",
   "metadata": {},
   "outputs": [
    {
     "name": "stdout",
     "output_type": "stream",
     "text": [
      "tensor([[0.2956, 0.1300, 0.2241],\n",
      "        [0.2956, 0.1300, 0.2241],\n",
      "        [0.2956, 0.1300, 0.2241],\n",
      "        [0.2956, 0.1300, 0.2241],\n",
      "        [0.2956, 0.1300, 0.2241]])\n",
      "tensor([0.2956, 0.1300, 0.2241])\n"
     ]
    }
   ],
   "source": [
    "loss.backward()\n",
    "print(w.grad)\n",
    "print(b.grad)"
   ]
  },
  {
   "cell_type": "markdown",
   "id": "aa95e3d6-6dc6-4fbb-8e76-d4cad83e9258",
   "metadata": {},
   "source": [
    "# Optimizing Model Parameters"
   ]
  },
  {
   "cell_type": "code",
   "execution_count": 57,
   "id": "7f555f50-5864-4451-9be1-8b2fcf6b7485",
   "metadata": {},
   "outputs": [
    {
     "name": "stdout",
     "output_type": "stream",
     "text": [
      "Downloading http://fashion-mnist.s3-website.eu-central-1.amazonaws.com/train-images-idx3-ubyte.gz\n",
      "Downloading http://fashion-mnist.s3-website.eu-central-1.amazonaws.com/train-images-idx3-ubyte.gz to data/FashionMNIST/raw/train-images-idx3-ubyte.gz\n"
     ]
    },
    {
     "name": "stderr",
     "output_type": "stream",
     "text": [
      "100.0%\n"
     ]
    },
    {
     "name": "stdout",
     "output_type": "stream",
     "text": [
      "Extracting data/FashionMNIST/raw/train-images-idx3-ubyte.gz to data/FashionMNIST/raw\n",
      "\n",
      "Downloading http://fashion-mnist.s3-website.eu-central-1.amazonaws.com/train-labels-idx1-ubyte.gz\n",
      "Downloading http://fashion-mnist.s3-website.eu-central-1.amazonaws.com/train-labels-idx1-ubyte.gz to data/FashionMNIST/raw/train-labels-idx1-ubyte.gz\n"
     ]
    },
    {
     "name": "stderr",
     "output_type": "stream",
     "text": [
      "100.0%\n"
     ]
    },
    {
     "name": "stdout",
     "output_type": "stream",
     "text": [
      "Extracting data/FashionMNIST/raw/train-labels-idx1-ubyte.gz to data/FashionMNIST/raw\n",
      "\n",
      "Downloading http://fashion-mnist.s3-website.eu-central-1.amazonaws.com/t10k-images-idx3-ubyte.gz\n",
      "Downloading http://fashion-mnist.s3-website.eu-central-1.amazonaws.com/t10k-images-idx3-ubyte.gz to data/FashionMNIST/raw/t10k-images-idx3-ubyte.gz\n"
     ]
    },
    {
     "name": "stderr",
     "output_type": "stream",
     "text": [
      "100.0%\n"
     ]
    },
    {
     "name": "stdout",
     "output_type": "stream",
     "text": [
      "Extracting data/FashionMNIST/raw/t10k-images-idx3-ubyte.gz to data/FashionMNIST/raw\n",
      "\n",
      "Downloading http://fashion-mnist.s3-website.eu-central-1.amazonaws.com/t10k-labels-idx1-ubyte.gz\n",
      "Downloading http://fashion-mnist.s3-website.eu-central-1.amazonaws.com/t10k-labels-idx1-ubyte.gz to data/FashionMNIST/raw/t10k-labels-idx1-ubyte.gz\n"
     ]
    },
    {
     "name": "stderr",
     "output_type": "stream",
     "text": [
      "100.0%"
     ]
    },
    {
     "name": "stdout",
     "output_type": "stream",
     "text": [
      "Extracting data/FashionMNIST/raw/t10k-labels-idx1-ubyte.gz to data/FashionMNIST/raw\n",
      "\n"
     ]
    },
    {
     "name": "stderr",
     "output_type": "stream",
     "text": [
      "\n"
     ]
    }
   ],
   "source": [
    "import torch\n",
    "from torch import nn\n",
    "from torch.utils.data import DataLoader\n",
    "from torchvision import datasets\n",
    "from torchvision.transforms import ToTensor\n",
    "\n",
    "training_data = datasets.FashionMNIST(\n",
    "    root=\"data\",\n",
    "    train=True,\n",
    "    download=True,\n",
    "    transform=ToTensor()\n",
    ")\n",
    "\n",
    "test_data = datasets.FashionMNIST(\n",
    "    root=\"data\",\n",
    "    train=False,\n",
    "    download=True,\n",
    "    transform=ToTensor()\n",
    ")\n",
    "\n",
    "train_dataloader = DataLoader(training_data, batch_size=64)\n",
    "test_dataloader = DataLoader(test_data, batch_size=64)\n",
    "\n",
    "class NeuralNetwork(nn.Module):\n",
    "    def __init__(self):\n",
    "        super().__init__()\n",
    "        self.flatten = nn.Flatten()\n",
    "        self.linear_relu_stack = nn.Sequential(\n",
    "            nn.Linear(28*28, 512),\n",
    "            nn.ReLU(),\n",
    "            nn.Linear(512, 512),\n",
    "            nn.ReLU(),\n",
    "            nn.Linear(512, 10),\n",
    "        )\n",
    "\n",
    "    def forward(self, x):\n",
    "        x = self.flatten(x)\n",
    "        logits = self.linear_relu_stack(x)\n",
    "        return logits\n",
    "\n",
    "model = NeuralNetwork()"
   ]
  },
  {
   "cell_type": "code",
   "execution_count": 95,
   "id": "60693800-5bee-4ab9-941a-0e678c0cb121",
   "metadata": {},
   "outputs": [],
   "source": [
    "learning_rate = 1e-3\n",
    "batch_size = 64\n",
    "epochs = 5"
   ]
  },
  {
   "cell_type": "code",
   "execution_count": 96,
   "id": "75531141-df6e-4690-b7a3-9e3c88e69d5e",
   "metadata": {},
   "outputs": [
    {
     "data": {
      "text/plain": [
       "NeuralNetwork(\n",
       "  (flatten): Flatten(start_dim=1, end_dim=-1)\n",
       "  (linear_relu_stack): Sequential(\n",
       "    (0): Linear(in_features=784, out_features=512, bias=True)\n",
       "    (1): ReLU()\n",
       "    (2): Linear(in_features=512, out_features=512, bias=True)\n",
       "    (3): ReLU()\n",
       "    (4): Linear(in_features=512, out_features=10, bias=True)\n",
       "  )\n",
       ")"
      ]
     },
     "execution_count": 96,
     "metadata": {},
     "output_type": "execute_result"
    }
   ],
   "source": [
    "model"
   ]
  },
  {
   "cell_type": "code",
   "execution_count": 97,
   "id": "591164e8-c9f5-4b8d-a4d5-f229a89e7acd",
   "metadata": {},
   "outputs": [],
   "source": [
    "# Initialize the loss function\n",
    "loss_fn = nn.CrossEntropyLoss()"
   ]
  },
  {
   "cell_type": "code",
   "execution_count": 98,
   "id": "059c0c0e-c08c-4fbe-8239-18ae2ad0105c",
   "metadata": {},
   "outputs": [
    {
     "data": {
      "text/plain": [
       "tensor(1.2623, grad_fn=<BinaryCrossEntropyWithLogitsBackward0>)"
      ]
     },
     "execution_count": 98,
     "metadata": {},
     "output_type": "execute_result"
    }
   ],
   "source": [
    "loss"
   ]
  },
  {
   "cell_type": "code",
   "execution_count": 99,
   "id": "3d72ca79-830b-44d2-93bd-cc3378ce9347",
   "metadata": {},
   "outputs": [],
   "source": [
    "optimizer = torch.optim.SGD(model.parameters(), lr=learning_rate)"
   ]
  },
  {
   "cell_type": "code",
   "execution_count": 100,
   "id": "4b317a4b-a90e-45bc-93e6-dae9f62a4419",
   "metadata": {},
   "outputs": [],
   "source": [
    "def train_loop(dataloader, model, loss_fn, optimizer):\n",
    "    size = len(dataloader.dataset)\n",
    "    # Set the model to training mode - important for batch normalization and dropout layers\n",
    "    # Unnecessary in this situation but added for best practices\n",
    "    model.train()\n",
    "    for batch, (X, y) in enumerate(dataloader):\n",
    "        # Compute prediction and loss\n",
    "        pred = model(X)\n",
    "        loss = loss_fn(pred, y)\n",
    "\n",
    "        # Backpropagation\n",
    "        loss.backward()\n",
    "        optimizer.step()\n",
    "        optimizer.zero_grad()\n",
    "\n",
    "        if batch % 100 == 0:\n",
    "            loss, current = loss.item(), (batch + 1) * len(X)\n",
    "            print(f\"loss: {loss:>7f}  [{current:>5d}/{size:>5d}]\")\n",
    "\n",
    "\n",
    "def test_loop(dataloader, model, loss_fn):\n",
    "    # Set the model to evaluation mode - important for batch normalization and dropout layers\n",
    "    # Unnecessary in this situation but added for best practices\n",
    "    model.eval()\n",
    "    size = len(dataloader.dataset)\n",
    "    num_batches = len(dataloader)\n",
    "    test_loss, correct = 0, 0\n",
    "\n",
    "    # Evaluating the model with torch.no_grad() ensures that no gradients are computed during test mode\n",
    "    # also serves to reduce unnecessary gradient computations and memory usage for tensors with requires_grad=True\n",
    "    with torch.no_grad():\n",
    "        for X, y in dataloader:\n",
    "            pred = model(X)\n",
    "            test_loss += loss_fn(pred, y).item()\n",
    "            correct += (pred.argmax(1) == y).type(torch.float).sum().item()\n",
    "\n",
    "    test_loss /= num_batches\n",
    "    correct /= size\n",
    "    print(f\"Test Error: \\n Accuracy: {(100*correct):>0.1f}%, Avg loss: {test_loss:>8f} \\n\")"
   ]
  },
  {
   "cell_type": "code",
   "execution_count": 101,
   "id": "ee29d69d-f097-4175-a8d5-89811d46a48e",
   "metadata": {},
   "outputs": [
    {
     "name": "stdout",
     "output_type": "stream",
     "text": [
      "Epoch 1\n",
      "-------------------------------\n",
      "loss: 2.023883  [   64/60000]\n",
      "loss: 1.951588  [ 6464/60000]\n",
      "loss: 1.832123  [12864/60000]\n",
      "loss: 1.939985  [19264/60000]\n",
      "loss: 1.834798  [25664/60000]\n",
      "loss: 1.985217  [32064/60000]\n",
      "loss: 1.940525  [38464/60000]\n",
      "loss: 1.966132  [44864/60000]\n",
      "loss: 2.029403  [51264/60000]\n",
      "loss: 2.085068  [57664/60000]\n",
      "Test Error: \n",
      " Accuracy: 26.6%, Avg loss: 1.925396 \n",
      "\n",
      "Epoch 2\n",
      "-------------------------------\n",
      "loss: 2.023447  [   64/60000]\n",
      "loss: 1.950758  [ 6464/60000]\n",
      "loss: 1.832258  [12864/60000]\n",
      "loss: 1.939161  [19264/60000]\n",
      "loss: 1.817561  [25664/60000]\n",
      "loss: 1.985834  [32064/60000]\n",
      "loss: 1.936544  [38464/60000]\n",
      "loss: 1.966138  [44864/60000]\n",
      "loss: 2.028090  [51264/60000]\n",
      "loss: 2.083169  [57664/60000]\n",
      "Test Error: \n",
      " Accuracy: 26.7%, Avg loss: 1.925186 \n",
      "\n",
      "Epoch 3\n",
      "-------------------------------\n",
      "loss: 2.023035  [   64/60000]\n",
      "loss: 1.950366  [ 6464/60000]\n",
      "loss: 1.832384  [12864/60000]\n",
      "loss: 1.938383  [19264/60000]\n",
      "loss: 1.804648  [25664/60000]\n",
      "loss: 1.984340  [32064/60000]\n",
      "loss: 1.936407  [38464/60000]\n",
      "loss: 1.966152  [44864/60000]\n",
      "loss: 2.026981  [51264/60000]\n",
      "loss: 2.047200  [57664/60000]\n",
      "Test Error: \n",
      " Accuracy: 26.8%, Avg loss: 1.924508 \n",
      "\n",
      "Epoch 4\n",
      "-------------------------------\n",
      "loss: 2.022629  [   64/60000]\n",
      "loss: 1.949988  [ 6464/60000]\n",
      "loss: 1.832505  [12864/60000]\n",
      "loss: 1.937659  [19264/60000]\n",
      "loss: 1.800709  [25664/60000]\n",
      "loss: 1.983676  [32064/60000]\n",
      "loss: 1.937467  [38464/60000]\n",
      "loss: 1.966169  [44864/60000]\n",
      "loss: 2.026050  [51264/60000]\n",
      "loss: 2.034267  [57664/60000]\n",
      "Test Error: \n",
      " Accuracy: 26.8%, Avg loss: 1.922679 \n",
      "\n",
      "Epoch 5\n",
      "-------------------------------\n",
      "loss: 2.022317  [   64/60000]\n",
      "loss: 1.949781  [ 6464/60000]\n",
      "loss: 1.832619  [12864/60000]\n",
      "loss: 1.936968  [19264/60000]\n",
      "loss: 1.798385  [25664/60000]\n",
      "loss: 1.982746  [32064/60000]\n",
      "loss: 1.938402  [38464/60000]\n",
      "loss: 1.966185  [44864/60000]\n",
      "loss: 2.025099  [51264/60000]\n",
      "loss: 2.032843  [57664/60000]\n",
      "Test Error: \n",
      " Accuracy: 26.9%, Avg loss: 1.921049 \n",
      "\n",
      "Epoch 6\n",
      "-------------------------------\n",
      "loss: 2.022023  [   64/60000]\n",
      "loss: 1.935805  [ 6464/60000]\n",
      "loss: 1.832729  [12864/60000]\n",
      "loss: 1.936325  [19264/60000]\n",
      "loss: 1.797130  [25664/60000]\n",
      "loss: 1.983132  [32064/60000]\n",
      "loss: 1.939209  [38464/60000]\n",
      "loss: 1.966203  [44864/60000]\n",
      "loss: 2.024331  [51264/60000]\n",
      "loss: 2.031536  [57664/60000]\n",
      "Test Error: \n",
      " Accuracy: 27.0%, Avg loss: 1.918976 \n",
      "\n",
      "Epoch 7\n",
      "-------------------------------\n",
      "loss: 2.021757  [   64/60000]\n",
      "loss: 1.924824  [ 6464/60000]\n",
      "loss: 1.832830  [12864/60000]\n",
      "loss: 1.935708  [19264/60000]\n",
      "loss: 1.795810  [25664/60000]\n",
      "loss: 1.983401  [32064/60000]\n",
      "loss: 1.939987  [38464/60000]\n",
      "loss: 1.966222  [44864/60000]\n",
      "loss: 2.023623  [51264/60000]\n",
      "loss: 2.030325  [57664/60000]\n",
      "Test Error: \n",
      " Accuracy: 27.1%, Avg loss: 1.914571 \n",
      "\n",
      "Epoch 8\n",
      "-------------------------------\n",
      "loss: 2.021518  [   64/60000]\n",
      "loss: 1.921042  [ 6464/60000]\n",
      "loss: 1.832924  [12864/60000]\n",
      "loss: 1.935114  [19264/60000]\n",
      "loss: 1.794779  [25664/60000]\n",
      "loss: 1.983575  [32064/60000]\n",
      "loss: 1.940925  [38464/60000]\n",
      "loss: 1.966241  [44864/60000]\n",
      "loss: 2.022915  [51264/60000]\n",
      "loss: 2.029202  [57664/60000]\n",
      "Test Error: \n",
      " Accuracy: 27.1%, Avg loss: 1.916342 \n",
      "\n",
      "Epoch 9\n",
      "-------------------------------\n",
      "loss: 1.995824  [   64/60000]\n",
      "loss: 1.918893  [ 6464/60000]\n",
      "loss: 1.833006  [12864/60000]\n",
      "loss: 1.934545  [19264/60000]\n",
      "loss: 1.793608  [25664/60000]\n",
      "loss: 1.983564  [32064/60000]\n",
      "loss: 1.941981  [38464/60000]\n",
      "loss: 1.966256  [44864/60000]\n",
      "loss: 2.022291  [51264/60000]\n",
      "loss: 2.028167  [57664/60000]\n",
      "Test Error: \n",
      " Accuracy: 27.2%, Avg loss: 1.912405 \n",
      "\n",
      "Epoch 10\n",
      "-------------------------------\n",
      "loss: 1.990109  [   64/60000]\n",
      "loss: 1.918293  [ 6464/60000]\n",
      "loss: 1.833078  [12864/60000]\n",
      "loss: 1.933997  [19264/60000]\n",
      "loss: 1.792809  [25664/60000]\n",
      "loss: 1.983407  [32064/60000]\n",
      "loss: 1.942819  [38464/60000]\n",
      "loss: 1.966268  [44864/60000]\n",
      "loss: 2.021570  [51264/60000]\n",
      "loss: 2.027192  [57664/60000]\n",
      "Test Error: \n",
      " Accuracy: 27.2%, Avg loss: 1.915908 \n",
      "\n",
      "Done!\n"
     ]
    }
   ],
   "source": [
    "loss_fn = nn.CrossEntropyLoss()\n",
    "optimizer = torch.optim.SGD(model.parameters(), lr=learning_rate)\n",
    "\n",
    "epochs = 10\n",
    "for t in range(epochs):\n",
    "    print(f\"Epoch {t+1}\\n-------------------------------\")\n",
    "    train_loop(train_dataloader, model, loss_fn, optimizer)\n",
    "    test_loop(test_dataloader, model, loss_fn)\n",
    "print(\"Done!\")"
   ]
  },
  {
   "cell_type": "markdown",
   "id": "27a1a63a-dfb4-4230-9613-89c7754a0311",
   "metadata": {},
   "source": [
    "# Autograd"
   ]
  },
  {
   "cell_type": "code",
   "execution_count": 102,
   "id": "d56ee0db-0090-4da6-a724-e49ac5d5132a",
   "metadata": {},
   "outputs": [],
   "source": [
    "import torch\n",
    "\n",
    "import matplotlib.pyplot as plt\n",
    "import matplotlib.ticker as ticker\n",
    "import math"
   ]
  },
  {
   "cell_type": "code",
   "execution_count": 104,
   "id": "2591684c-1fac-4c2e-a6e3-2014d2eb0ef7",
   "metadata": {},
   "outputs": [
    {
     "name": "stdout",
     "output_type": "stream",
     "text": [
      "tensor([0.0000, 0.0635, 0.1269, 0.1904, 0.2539, 0.3173, 0.3808, 0.4443, 0.5077,\n",
      "        0.5712, 0.6347, 0.6981, 0.7616, 0.8251, 0.8885, 0.9520, 1.0155, 1.0789,\n",
      "        1.1424, 1.2059, 1.2693, 1.3328, 1.3963, 1.4597, 1.5232, 1.5867, 1.6501,\n",
      "        1.7136, 1.7771, 1.8405, 1.9040, 1.9675, 2.0309, 2.0944, 2.1579, 2.2213,\n",
      "        2.2848, 2.3483, 2.4117, 2.4752, 2.5387, 2.6021, 2.6656, 2.7291, 2.7925,\n",
      "        2.8560, 2.9195, 2.9829, 3.0464, 3.1099, 3.1733, 3.2368, 3.3003, 3.3637,\n",
      "        3.4272, 3.4907, 3.5541, 3.6176, 3.6811, 3.7445, 3.8080, 3.8715, 3.9349,\n",
      "        3.9984, 4.0619, 4.1253, 4.1888, 4.2523, 4.3157, 4.3792, 4.4427, 4.5061,\n",
      "        4.5696, 4.6331, 4.6965, 4.7600, 4.8235, 4.8869, 4.9504, 5.0139, 5.0773,\n",
      "        5.1408, 5.2043, 5.2677, 5.3312, 5.3947, 5.4581, 5.5216, 5.5851, 5.6485,\n",
      "        5.7120, 5.7755, 5.8389, 5.9024, 5.9659, 6.0293, 6.0928, 6.1563, 6.2197,\n",
      "        6.2832], requires_grad=True)\n"
     ]
    }
   ],
   "source": [
    "# Create a sequence of number from 0 to 2*PI\n",
    "a = torch.linspace(0., 2. * math.pi, steps=100, requires_grad=True)\n",
    "print(a)"
   ]
  },
  {
   "cell_type": "code",
   "execution_count": 156,
   "id": "eb3e2bef-76be-4ce6-85b8-fee86ca26ff4",
   "metadata": {},
   "outputs": [
    {
     "data": {
      "text/plain": [
       "[<matplotlib.lines.Line2D at 0x7f885bfcf650>]"
      ]
     },
     "execution_count": 156,
     "metadata": {},
     "output_type": "execute_result"
    },
    {
     "data": {
      "image/png": "[encoded data removed]",
      "text/plain": [
       "<Figure size 640x480 with 1 Axes>"
      ]
     },
     "metadata": {},
     "output_type": "display_data"
    }
   ],
   "source": [
    "# Evaluate the previous generated numbers with sin\n",
    "b = torch.sin(a)\n",
    "plt.plot(a.detach(), b.detach()) # detach gets a copy of the tensor with no gradient tracking\n",
    "# implicit conversion from a PyTorch tensor to a NumPy array is not enabled for tensors with \n",
    "# requires_grad=True. Making a detached copy lets us move forward."
   ]
  },
  {
   "cell_type": "code",
   "execution_count": 109,
   "id": "1bad7229-e506-4d5e-bcbd-1a63e89bea92",
   "metadata": {},
   "outputs": [
    {
     "name": "stdout",
     "output_type": "stream",
     "text": [
      "tensor([ 0.0000e+00,  6.3424e-02,  1.2659e-01,  1.8925e-01,  2.5115e-01,\n",
      "         3.1203e-01,  3.7166e-01,  4.2979e-01,  4.8620e-01,  5.4064e-01,\n",
      "         5.9291e-01,  6.4279e-01,  6.9008e-01,  7.3459e-01,  7.7615e-01,\n",
      "         8.1458e-01,  8.4973e-01,  8.8145e-01,  9.0963e-01,  9.3415e-01,\n",
      "         9.5490e-01,  9.7181e-01,  9.8481e-01,  9.9384e-01,  9.9887e-01,\n",
      "         9.9987e-01,  9.9685e-01,  9.8982e-01,  9.7880e-01,  9.6384e-01,\n",
      "         9.4500e-01,  9.2235e-01,  8.9599e-01,  8.6603e-01,  8.3257e-01,\n",
      "         7.9576e-01,  7.5575e-01,  7.1269e-01,  6.6677e-01,  6.1816e-01,\n",
      "         5.6706e-01,  5.1368e-01,  4.5823e-01,  4.0093e-01,  3.4202e-01,\n",
      "         2.8173e-01,  2.2031e-01,  1.5800e-01,  9.5056e-02,  3.1728e-02,\n",
      "        -3.1728e-02, -9.5056e-02, -1.5800e-01, -2.2031e-01, -2.8173e-01,\n",
      "        -3.4202e-01, -4.0093e-01, -4.5823e-01, -5.1368e-01, -5.6706e-01,\n",
      "        -6.1816e-01, -6.6677e-01, -7.1269e-01, -7.5575e-01, -7.9576e-01,\n",
      "        -8.3257e-01, -8.6603e-01, -8.9599e-01, -9.2235e-01, -9.4500e-01,\n",
      "        -9.6384e-01, -9.7880e-01, -9.8982e-01, -9.9685e-01, -9.9987e-01,\n",
      "        -9.9887e-01, -9.9384e-01, -9.8481e-01, -9.7181e-01, -9.5490e-01,\n",
      "        -9.3415e-01, -9.0963e-01, -8.8145e-01, -8.4973e-01, -8.1458e-01,\n",
      "        -7.7615e-01, -7.3459e-01, -6.9008e-01, -6.4279e-01, -5.9291e-01,\n",
      "        -5.4064e-01, -4.8620e-01, -4.2979e-01, -3.7166e-01, -3.1203e-01,\n",
      "        -2.5115e-01, -1.8925e-01, -1.2659e-01, -6.3424e-02,  1.7485e-07],\n",
      "       grad_fn=<SinBackward0>)\n"
     ]
    }
   ],
   "source": [
    "# Now let's see what is the derivative the autograd function chooses based on our choosen function\n",
    "# The answer is \"SinBackward0\" witch ahead we will see that is cossine function\n",
    "print(b)"
   ]
  },
  {
   "cell_type": "code",
   "execution_count": 112,
   "id": "f2a3c453-04a5-465e-9c11-c1673f9342e0",
   "metadata": {},
   "outputs": [
    {
     "name": "stdout",
     "output_type": "stream",
     "text": [
      "tensor([ 0.0000e+00,  1.2685e-01,  2.5318e-01,  3.7850e-01,  5.0230e-01,\n",
      "         6.2407e-01,  7.4332e-01,  8.5959e-01,  9.7239e-01,  1.0813e+00,\n",
      "         1.1858e+00,  1.2856e+00,  1.3802e+00,  1.4692e+00,  1.5523e+00,\n",
      "         1.6292e+00,  1.6995e+00,  1.7629e+00,  1.8193e+00,  1.8683e+00,\n",
      "         1.9098e+00,  1.9436e+00,  1.9696e+00,  1.9877e+00,  1.9977e+00,\n",
      "         1.9997e+00,  1.9937e+00,  1.9796e+00,  1.9576e+00,  1.9277e+00,\n",
      "         1.8900e+00,  1.8447e+00,  1.7920e+00,  1.7321e+00,  1.6651e+00,\n",
      "         1.5915e+00,  1.5115e+00,  1.4254e+00,  1.3335e+00,  1.2363e+00,\n",
      "         1.1341e+00,  1.0274e+00,  9.1645e-01,  8.0186e-01,  6.8404e-01,\n",
      "         5.6347e-01,  4.4062e-01,  3.1600e-01,  1.9011e-01,  6.3456e-02,\n",
      "        -6.3456e-02, -1.9011e-01, -3.1600e-01, -4.4062e-01, -5.6347e-01,\n",
      "        -6.8404e-01, -8.0186e-01, -9.1645e-01, -1.0274e+00, -1.1341e+00,\n",
      "        -1.2363e+00, -1.3335e+00, -1.4254e+00, -1.5115e+00, -1.5915e+00,\n",
      "        -1.6651e+00, -1.7321e+00, -1.7920e+00, -1.8447e+00, -1.8900e+00,\n",
      "        -1.9277e+00, -1.9576e+00, -1.9796e+00, -1.9937e+00, -1.9997e+00,\n",
      "        -1.9977e+00, -1.9877e+00, -1.9696e+00, -1.9436e+00, -1.9098e+00,\n",
      "        -1.8683e+00, -1.8193e+00, -1.7629e+00, -1.6995e+00, -1.6292e+00,\n",
      "        -1.5523e+00, -1.4692e+00, -1.3802e+00, -1.2856e+00, -1.1858e+00,\n",
      "        -1.0813e+00, -9.7239e-01, -8.5959e-01, -7.4332e-01, -6.2407e-01,\n",
      "        -5.0230e-01, -3.7850e-01, -2.5318e-01, -1.2685e-01,  3.4969e-07],\n",
      "       grad_fn=<MulBackward0>)\n",
      "tensor([ 1.0000,  1.1268,  1.2532,  1.3785,  1.5023,  1.6241,  1.7433,  1.8596,\n",
      "         1.9724,  2.0813,  2.1858,  2.2856,  2.3802,  2.4692,  2.5523,  2.6292,\n",
      "         2.6995,  2.7629,  2.8193,  2.8683,  2.9098,  2.9436,  2.9696,  2.9877,\n",
      "         2.9977,  2.9997,  2.9937,  2.9796,  2.9576,  2.9277,  2.8900,  2.8447,\n",
      "         2.7920,  2.7321,  2.6651,  2.5915,  2.5115,  2.4254,  2.3335,  2.2363,\n",
      "         2.1341,  2.0274,  1.9165,  1.8019,  1.6840,  1.5635,  1.4406,  1.3160,\n",
      "         1.1901,  1.0635,  0.9365,  0.8099,  0.6840,  0.5594,  0.4365,  0.3160,\n",
      "         0.1981,  0.0835, -0.0274, -0.1341, -0.2363, -0.3335, -0.4254, -0.5115,\n",
      "        -0.5915, -0.6651, -0.7321, -0.7920, -0.8447, -0.8900, -0.9277, -0.9576,\n",
      "        -0.9796, -0.9937, -0.9997, -0.9977, -0.9877, -0.9696, -0.9436, -0.9098,\n",
      "        -0.8683, -0.8193, -0.7629, -0.6995, -0.6292, -0.5523, -0.4692, -0.3802,\n",
      "        -0.2856, -0.1858, -0.0813,  0.0276,  0.1404,  0.2567,  0.3759,  0.4977,\n",
      "         0.6215,  0.7468,  0.8732,  1.0000], grad_fn=<AddBackward0>)\n"
     ]
    }
   ],
   "source": [
    "# Lets add some more steps to it\n",
    "\n",
    "c = 2 * b\n",
    "print(c)\n",
    "\n",
    "d = c + 1\n",
    "print(d)\n",
    "\n",
    "# Note that each tensor has its respective backwards function"
   ]
  },
  {
   "cell_type": "code",
   "execution_count": 113,
   "id": "ca27ab85-4a43-449a-b51d-abd256c166f9",
   "metadata": {},
   "outputs": [
    {
     "name": "stdout",
     "output_type": "stream",
     "text": [
      "tensor(100.0000, grad_fn=<SumBackward0>)\n"
     ]
    }
   ],
   "source": [
    "out = d.sum()\n",
    "print(out)"
   ]
  },
  {
   "cell_type": "code",
   "execution_count": 116,
   "id": "035b807f-ce59-4234-b06a-75be8bd61dd4",
   "metadata": {},
   "outputs": [
    {
     "name": "stdout",
     "output_type": "stream",
     "text": [
      "<AddBackward0 object at 0x7f885c6d4790>\n"
     ]
    }
   ],
   "source": [
    "# These tensors keep track of their origin tensors this way they can compute the gradients needed\n",
    "# D backward function\n",
    "print(d.grad_fn)"
   ]
  },
  {
   "cell_type": "code",
   "execution_count": 126,
   "id": "9c47566c-41c6-439a-b530-d8ba97e27b01",
   "metadata": {},
   "outputs": [
    {
     "name": "stdout",
     "output_type": "stream",
     "text": [
      "((<MulBackward0 object at 0x7f885c6d4700>, 0), (None, 0))\n"
     ]
    },
    {
     "data": {
      "text/plain": [
       "<MulBackward0 at 0x7f885c6d4d00>"
      ]
     },
     "execution_count": 126,
     "metadata": {},
     "output_type": "execute_result"
    }
   ],
   "source": [
    "# C backward function\n",
    "print(d.grad_fn.next_functions)\n",
    "c.grad_fn"
   ]
  },
  {
   "cell_type": "code",
   "execution_count": 128,
   "id": "eeb9e20f-82fd-4b89-ab5a-b659998daceb",
   "metadata": {},
   "outputs": [
    {
     "name": "stdout",
     "output_type": "stream",
     "text": [
      "((<SinBackward0 object at 0x7f885c6d4580>, 0), (None, 0))\n"
     ]
    },
    {
     "data": {
      "text/plain": [
       "<SinBackward0 at 0x7f885c6d4b20>"
      ]
     },
     "execution_count": 128,
     "metadata": {},
     "output_type": "execute_result"
    }
   ],
   "source": [
    "# B backward function\n",
    "print(d.grad_fn.next_functions[0][0].next_functions)\n",
    "b.grad_fn"
   ]
  },
  {
   "cell_type": "code",
   "execution_count": 136,
   "id": "7f9501aa-bed7-4a03-950c-67505c776119",
   "metadata": {},
   "outputs": [
    {
     "name": "stdout",
     "output_type": "stream",
     "text": [
      "((<AccumulateGrad object at 0x7f885c6d4220>, 0),)\n",
      "None\n"
     ]
    }
   ],
   "source": [
    "# A backward function (None)\n",
    "print(d.grad_fn.next_functions[0][0].next_functions[0][0].next_functions)\n",
    "print(a.grad_fn)"
   ]
  },
  {
   "cell_type": "code",
   "execution_count": 138,
   "id": "cf4c0751-7247-4690-b3e4-50cdfd86f3df",
   "metadata": {},
   "outputs": [
    {
     "name": "stdout",
     "output_type": "stream",
     "text": [
      "tensor([ 2.0000,  1.9960,  1.9839,  1.9639,  1.9359,  1.9001,  1.8567,  1.8059,\n",
      "         1.7477,  1.6825,  1.6105,  1.5321,  1.4475,  1.3570,  1.2611,  1.1601,\n",
      "         1.0545,  0.9445,  0.8308,  0.7138,  0.5938,  0.4715,  0.3473,  0.2217,\n",
      "         0.0952, -0.0317, -0.1585, -0.2846, -0.4096, -0.5329, -0.6541, -0.7727,\n",
      "        -0.8881, -1.0000, -1.1078, -1.2112, -1.3097, -1.4029, -1.4905, -1.5721,\n",
      "        -1.6474, -1.7160, -1.7777, -1.8322, -1.8794, -1.9190, -1.9509, -1.9749,\n",
      "        -1.9909, -1.9990, -1.9990, -1.9909, -1.9749, -1.9509, -1.9190, -1.8794,\n",
      "        -1.8322, -1.7777, -1.7160, -1.6474, -1.5721, -1.4905, -1.4029, -1.3097,\n",
      "        -1.2112, -1.1078, -1.0000, -0.8881, -0.7727, -0.6541, -0.5329, -0.4096,\n",
      "        -0.2846, -0.1585, -0.0317,  0.0952,  0.2217,  0.3473,  0.4715,  0.5938,\n",
      "         0.7138,  0.8308,  0.9445,  1.0545,  1.1601,  1.2611,  1.3570,  1.4475,\n",
      "         1.5321,  1.6105,  1.6825,  1.7477,  1.8059,  1.8567,  1.9001,  1.9359,\n",
      "         1.9639,  1.9839,  1.9960,  2.0000])\n"
     ]
    },
    {
     "data": {
      "text/plain": [
       "[<matplotlib.lines.Line2D at 0x7f885c0a3610>]"
      ]
     },
     "execution_count": 138,
     "metadata": {},
     "output_type": "execute_result"
    },
    {
     "data": {
      "image/png": "[encoded data removed]",
      "text/plain": [
       "<Figure size 640x480 with 1 Axes>"
      ]
     },
     "metadata": {},
     "output_type": "display_data"
    }
   ],
   "source": [
    "# Good. But how can we be sure that the derivatives were generated just right?\n",
    "\n",
    "# Calling the backward function\n",
    "out.backward()\n",
    "\n",
    "# And then checking out the generated derivatives values\n",
    "print(a.grad)\n",
    "plt.plot(a.detach(), a.grad.detach())"
   ]
  },
  {
   "cell_type": "markdown",
   "id": "ba70ee0d-95df-4041-b828-b091dd9ceb69",
   "metadata": {},
   "source": [
    "Adding a constant, as we did to compute d, does not change the derivative. That leaves c = 2∗b = 2∗sin⁡(a), the derivative of which should be 2∗cos⁡(a). Looking at the graph above, that’s just what we see."
   ]
  },
  {
   "cell_type": "markdown",
   "id": "7efcc0c7-c1e9-40d0-8974-f88843929bed",
   "metadata": {},
   "source": [
    "Be aware that only leaf nodes of the computation have their gradients computed. If you tried, for example, print(c.grad) you’d get back None. In this simple example, only the input is a leaf node, so only it has gradients computed."
   ]
  },
  {
   "cell_type": "markdown",
   "id": "08948805-e3aa-4e30-85b1-8f6badec7ac4",
   "metadata": {},
   "source": [
    "# More examples on gradients"
   ]
  },
  {
   "cell_type": "code",
   "execution_count": 140,
   "id": "25f0e68c-948f-474b-a7e1-87eb3eef5121",
   "metadata": {},
   "outputs": [],
   "source": [
    "BATCH_SIZE = 16\n",
    "DIM_IN = 1000\n",
    "HIDDEN_SIZE = 100\n",
    "DIM_OUT = 10\n",
    "\n",
    "class TinyModel(torch.nn.Module):\n",
    "\n",
    "    def __init__(self):\n",
    "        super(TinyModel, self).__init__()\n",
    "\n",
    "        self.layer1 = torch.nn.Linear(1000, 100)\n",
    "        self.relu = torch.nn.ReLU()\n",
    "        self.layer2 = torch.nn.Linear(100, 10)\n",
    "\n",
    "    def forward(self, x):\n",
    "        x = self.layer1(x)\n",
    "        x = self.relu(x)\n",
    "        x = self.layer2(x)\n",
    "        return x\n",
    "\n",
    "some_input = torch.randn(BATCH_SIZE, DIM_IN, requires_grad=False)\n",
    "ideal_output = torch.randn(BATCH_SIZE, DIM_OUT, requires_grad=False)\n",
    "\n",
    "model = TinyModel()"
   ]
  },
  {
   "cell_type": "markdown",
   "id": "ff82a580-dcbd-484a-afc8-132b68649277",
   "metadata": {},
   "source": [
    "# Until now no gradients were calculated:"
   ]
  },
  {
   "cell_type": "code",
   "execution_count": 143,
   "id": "43a6c0bf-f9e6-4895-bf15-db11f787c1ed",
   "metadata": {},
   "outputs": [
    {
     "name": "stdout",
     "output_type": "stream",
     "text": [
      "tensor([-0.0114, -0.0516, -0.0005, -0.0441,  0.0049, -0.0651, -0.0450,  0.0062,\n",
      "         0.0370, -0.0053], grad_fn=<SliceBackward0>)\n",
      "None\n"
     ]
    }
   ],
   "source": [
    "print(model.layer2.weight[0][0:10]) # just a small slice\n",
    "print(model.layer2.weight.grad) # Shows the gradients"
   ]
  },
  {
   "cell_type": "markdown",
   "id": "b90e9849-e28a-410c-a2cc-f63cc30313f5",
   "metadata": {},
   "source": [
    "# Lets change it"
   ]
  },
  {
   "cell_type": "code",
   "execution_count": 145,
   "id": "fa14c2df-026f-4db5-a991-ade091001f00",
   "metadata": {},
   "outputs": [
    {
     "name": "stdout",
     "output_type": "stream",
     "text": [
      "tensor(155.0234, grad_fn=<SumBackward0>)\n"
     ]
    }
   ],
   "source": [
    "optimizer = torch.optim.SGD(model.parameters(), lr=0.001) # SGD stochastic gradient descent optimizer.\n",
    "prediction = model(some_input) # forward pass\n",
    "\n",
    "loss = (ideal_output - prediction).pow(2).sum() # loss: Euclidian distance\n",
    "print(loss)"
   ]
  },
  {
   "cell_type": "code",
   "execution_count": 147,
   "id": "fe003d8a-f719-4295-8a7b-fbbf68e9dcd5",
   "metadata": {},
   "outputs": [
    {
     "name": "stdout",
     "output_type": "stream",
     "text": [
      "None\n"
     ]
    }
   ],
   "source": [
    "# Note that still there is no gradient\n",
    "print(model.layer2.weight.grad) # Shows the gradients"
   ]
  },
  {
   "cell_type": "markdown",
   "id": "af85fac6-a7c5-4134-b086-5b64caa169fe",
   "metadata": {},
   "source": [
    "## The gradients are created when the backwards pass get calculated"
   ]
  },
  {
   "cell_type": "code",
   "execution_count": 150,
   "id": "84d7dfeb-8fea-485c-ac81-b0ce0f05f99c",
   "metadata": {},
   "outputs": [
    {
     "name": "stdout",
     "output_type": "stream",
     "text": [
      "tensor([-0.0114, -0.0516, -0.0005, -0.0441,  0.0049, -0.0651, -0.0450,  0.0062,\n",
      "         0.0370, -0.0053], grad_fn=<SliceBackward0>)\n",
      "tensor([-2.1624, -0.0643, -4.5088, -1.0345,  3.3013, -0.2757,  2.2550, -2.6771,\n",
      "         2.5618,  0.4986])\n"
     ]
    }
   ],
   "source": [
    "loss.backward()\n",
    "print(model.layer2.weight[0][0:10])\n",
    "print(model.layer2.weight.grad[0][0:10])"
   ]
  },
  {
   "cell_type": "markdown",
   "id": "7cf34960-1792-42fc-abb1-266a22a6b25e",
   "metadata": {},
   "source": [
    "We can see that the gradients have been computed for each learning weight, but the weights remain unchanged, because we haven’t run the optimizer yet. The optimizer is responsible for updating model weights based on the computed gradients."
   ]
  },
  {
   "cell_type": "code",
   "execution_count": 151,
   "id": "d795d3e2-1780-4ab4-8101-e2195f65c7a1",
   "metadata": {},
   "outputs": [
    {
     "name": "stdout",
     "output_type": "stream",
     "text": [
      "tensor([-0.0092, -0.0515,  0.0040, -0.0431,  0.0016, -0.0648, -0.0472,  0.0089,\n",
      "         0.0345, -0.0058], grad_fn=<SliceBackward0>)\n",
      "tensor([-2.1624, -0.0643, -4.5088, -1.0345,  3.3013, -0.2757,  2.2550, -2.6771,\n",
      "         2.5618,  0.4986])\n"
     ]
    }
   ],
   "source": [
    "optimizer.step()\n",
    "print(model.layer2.weight[0][0:10])\n",
    "print(model.layer2.weight.grad[0][0:10])"
   ]
  },
  {
   "cell_type": "markdown",
   "id": "5e937a92-55d7-4a30-aa6d-b4ed75cf3f72",
   "metadata": {},
   "source": [
    "One important thing about the process: After calling optimizer.step(), you need to call optimizer.zero_grad(), or else every time you run loss.backward(), the gradients on the learning weights will accumulate. Failing to zero the gradients before running your next training batch will cause the gradients to blow up in this manner, causing incorrect and unpredictable learning results."
   ]
  },
  {
   "cell_type": "code",
   "execution_count": 152,
   "id": "44b2f0b5-089e-467c-8426-784994324ed0",
   "metadata": {},
   "outputs": [],
   "source": [
    "optimizer.zero_grad(set_to_none=False)"
   ]
  },
  {
   "cell_type": "code",
   "execution_count": 153,
   "id": "b1a60d8f-1c38-456d-82fb-db25ccfe1b52",
   "metadata": {},
   "outputs": [
    {
     "name": "stdout",
     "output_type": "stream",
     "text": [
      "tensor([-0.0092, -0.0515,  0.0040, -0.0431,  0.0016, -0.0648, -0.0472,  0.0089,\n",
      "         0.0345, -0.0058], grad_fn=<SliceBackward0>)\n",
      "tensor([0., 0., 0., 0., 0., 0., 0., 0., 0., 0.])\n"
     ]
    }
   ],
   "source": [
    "print(model.layer2.weight[0][0:10])\n",
    "print(model.layer2.weight.grad[0][0:10])"
   ]
  },
  {
   "cell_type": "markdown",
   "id": "01b569f7-65f7-4ed2-91f0-2d2de5c1fe4f",
   "metadata": {},
   "source": [
    "In-place operations throws exceptions when applied to tensors with autograd"
   ]
  },
  {
   "cell_type": "code",
   "execution_count": 157,
   "id": "316e1613-1db3-4074-9ebc-8f81481ea831",
   "metadata": {},
   "outputs": [
    {
     "ename": "RuntimeError",
     "evalue": "a leaf Variable that requires grad is being used in an in-place operation.",
     "output_type": "error",
     "traceback": [
      "\u001b[0;31m---------------------------------------------------------------------------\u001b[0m",
      "\u001b[0;31mRuntimeError\u001b[0m                              Traceback (most recent call last)",
      "Cell \u001b[0;32mIn[157], line 2\u001b[0m\n\u001b[1;32m      1\u001b[0m a \u001b[38;5;241m=\u001b[39m torch\u001b[38;5;241m.\u001b[39mlinspace(\u001b[38;5;241m0.\u001b[39m, \u001b[38;5;241m2.\u001b[39m \u001b[38;5;241m*\u001b[39m math\u001b[38;5;241m.\u001b[39mpi, steps\u001b[38;5;241m=\u001b[39m\u001b[38;5;241m25\u001b[39m, requires_grad\u001b[38;5;241m=\u001b[39m\u001b[38;5;28;01mTrue\u001b[39;00m)\n\u001b[0;32m----> 2\u001b[0m \u001b[43mtorch\u001b[49m\u001b[38;5;241;43m.\u001b[39;49m\u001b[43msin_\u001b[49m\u001b[43m(\u001b[49m\u001b[43ma\u001b[49m\u001b[43m)\u001b[49m\n",
      "\u001b[0;31mRuntimeError\u001b[0m: a leaf Variable that requires grad is being used in an in-place operation."
     ]
    }
   ],
   "source": [
    "a = torch.linspace(0., 2. * math.pi, steps=25, requires_grad=True)\n",
    "torch.sin_(a)"
   ]
  },
  {
   "cell_type": "markdown",
   "id": "46f61573-1048-4b37-90e4-94bff11dcf4d",
   "metadata": {},
   "source": [
    "# Autograd Profiler"
   ]
  },
  {
   "cell_type": "code",
   "execution_count": 158,
   "id": "6a5afdc4-4c9e-4c79-b0f8-9ecea2c0324d",
   "metadata": {},
   "outputs": [
    {
     "name": "stdout",
     "output_type": "stream",
     "text": [
      "-------------  ------------  ------------  ------------  ------------  ------------  ------------  \n",
      "         Name    Self CPU %      Self CPU   CPU total %     CPU total  CPU time avg    # of Calls  \n",
      "-------------  ------------  ------------  ------------  ------------  ------------  ------------  \n",
      "    aten::div        50.67%       2.383ms        50.67%       2.383ms       2.383us          1000  \n",
      "    aten::mul        49.33%       2.320ms        49.33%       2.320ms       2.320us          1000  \n",
      "-------------  ------------  ------------  ------------  ------------  ------------  ------------  \n",
      "Self CPU time total: 4.703ms\n",
      "\n"
     ]
    },
    {
     "name": "stderr",
     "output_type": "stream",
     "text": [
      "STAGE:2023-11-02 21:48:39 77234:77234 ActivityProfilerController.cpp:312] Completed Stage: Warm Up\n",
      "STAGE:2023-11-02 21:48:39 77234:77234 ActivityProfilerController.cpp:318] Completed Stage: Collection\n",
      "STAGE:2023-11-02 21:48:39 77234:77234 ActivityProfilerController.cpp:322] Completed Stage: Post Processing\n"
     ]
    }
   ],
   "source": [
    "device = torch.device('cpu')\n",
    "run_on_gpu = False\n",
    "if torch.cuda.is_available():\n",
    "    device = torch.device('cuda')\n",
    "    run_on_gpu = True\n",
    "\n",
    "x = torch.randn(2, 3, requires_grad=True)\n",
    "y = torch.rand(2, 3, requires_grad=True)\n",
    "z = torch.ones(2, 3, requires_grad=True)\n",
    "\n",
    "with torch.autograd.profiler.profile(use_cuda=run_on_gpu) as prf:\n",
    "    for _ in range(1000):\n",
    "        z = (z / x) * y\n",
    "\n",
    "print(prf.key_averages().table(sort_by='self_cpu_time_total'))"
   ]
  },
  {
   "cell_type": "markdown",
   "id": "976c0def-6f08-42ce-9d4c-216f920b31ab",
   "metadata": {},
   "source": [
    "# Jacobian matrices"
   ]
  },
  {
   "attachments": {
    "a35124b4-2369-40e4-873c-3d606c2ac9bc.png": {
     "image/png": "[encoded data removed]"
    }
   },
   "cell_type": "markdown",
   "id": "ddf33483-12a6-4b43-b049-16361b712e65",
   "metadata": {},
   "source": [
    "![image.png](attachment:a35124b4-2369-40e4-873c-3d606c2ac9bc.png)"
   ]
  },
  {
   "cell_type": "markdown",
   "id": "846a23c2-bf40-4e6b-b60f-60638cb958d0",
   "metadata": {},
   "source": [
    "Note: You could also use the equivalent operation $v^T⋅J$, and get back a row vector.\n",
    "\n",
    "The resulting column vector is the gradient of the second function with respect to the inputs of the first - or in the case of our model and loss function, the gradient of the loss with respect to the model inputs.\n",
    "\n",
    "``torch.autograd`` is an engine for computing these products. This is how we accumulate the gradients over the learning weights during the backward pass."
   ]
  },
  {
   "cell_type": "code",
   "execution_count": 161,
   "id": "8aff7e89-2faa-41ca-859d-17f0875d74c1",
   "metadata": {},
   "outputs": [
    {
     "name": "stdout",
     "output_type": "stream",
     "text": [
      "tensor([-624.7406,  -81.7708,  983.8554], grad_fn=<MulBackward0>)\n"
     ]
    }
   ],
   "source": [
    "x = torch.randn(3, requires_grad=True)\n",
    "\n",
    "y = x * 2\n",
    "while y.data.norm() < 1000:\n",
    "    y = y * 2\n",
    "\n",
    "print(y)"
   ]
  },
  {
   "cell_type": "code",
   "execution_count": 163,
   "id": "bd8d3784-5431-4403-9790-a5f727bed9fb",
   "metadata": {},
   "outputs": [
    {
     "ename": "RuntimeError",
     "evalue": "grad can be implicitly created only for scalar outputs",
     "output_type": "error",
     "traceback": [
      "\u001b[0;31m---------------------------------------------------------------------------\u001b[0m",
      "\u001b[0;31mRuntimeError\u001b[0m                              Traceback (most recent call last)",
      "Cell \u001b[0;32mIn[163], line 3\u001b[0m\n\u001b[1;32m      1\u001b[0m \u001b[38;5;66;03m# We CANNOT caculate the gradients from multidimensional outputs, this is possible just using scalars\u001b[39;00m\n\u001b[1;32m      2\u001b[0m \u001b[38;5;66;03m# If we try, the error bellow occurs\u001b[39;00m\n\u001b[0;32m----> 3\u001b[0m \u001b[43my\u001b[49m\u001b[38;5;241;43m.\u001b[39;49m\u001b[43mbackward\u001b[49m\u001b[43m(\u001b[49m\u001b[43m)\u001b[49m\n",
      "File \u001b[0;32m~/.venvTorch/lib/python3.11/site-packages/torch/_tensor.py:492\u001b[0m, in \u001b[0;36mTensor.backward\u001b[0;34m(self, gradient, retain_graph, create_graph, inputs)\u001b[0m\n\u001b[1;32m    482\u001b[0m \u001b[38;5;28;01mif\u001b[39;00m has_torch_function_unary(\u001b[38;5;28mself\u001b[39m):\n\u001b[1;32m    483\u001b[0m     \u001b[38;5;28;01mreturn\u001b[39;00m handle_torch_function(\n\u001b[1;32m    484\u001b[0m         Tensor\u001b[38;5;241m.\u001b[39mbackward,\n\u001b[1;32m    485\u001b[0m         (\u001b[38;5;28mself\u001b[39m,),\n\u001b[0;32m   (...)\u001b[0m\n\u001b[1;32m    490\u001b[0m         inputs\u001b[38;5;241m=\u001b[39minputs,\n\u001b[1;32m    491\u001b[0m     )\n\u001b[0;32m--> 492\u001b[0m \u001b[43mtorch\u001b[49m\u001b[38;5;241;43m.\u001b[39;49m\u001b[43mautograd\u001b[49m\u001b[38;5;241;43m.\u001b[39;49m\u001b[43mbackward\u001b[49m\u001b[43m(\u001b[49m\n\u001b[1;32m    493\u001b[0m \u001b[43m    \u001b[49m\u001b[38;5;28;43mself\u001b[39;49m\u001b[43m,\u001b[49m\u001b[43m \u001b[49m\u001b[43mgradient\u001b[49m\u001b[43m,\u001b[49m\u001b[43m \u001b[49m\u001b[43mretain_graph\u001b[49m\u001b[43m,\u001b[49m\u001b[43m \u001b[49m\u001b[43mcreate_graph\u001b[49m\u001b[43m,\u001b[49m\u001b[43m \u001b[49m\u001b[43minputs\u001b[49m\u001b[38;5;241;43m=\u001b[39;49m\u001b[43minputs\u001b[49m\n\u001b[1;32m    494\u001b[0m \u001b[43m\u001b[49m\u001b[43m)\u001b[49m\n",
      "File \u001b[0;32m~/.venvTorch/lib/python3.11/site-packages/torch/autograd/__init__.py:244\u001b[0m, in \u001b[0;36mbackward\u001b[0;34m(tensors, grad_tensors, retain_graph, create_graph, grad_variables, inputs)\u001b[0m\n\u001b[1;32m    235\u001b[0m inputs \u001b[38;5;241m=\u001b[39m (\n\u001b[1;32m    236\u001b[0m     (inputs,)\n\u001b[1;32m    237\u001b[0m     \u001b[38;5;28;01mif\u001b[39;00m \u001b[38;5;28misinstance\u001b[39m(inputs, torch\u001b[38;5;241m.\u001b[39mTensor)\n\u001b[0;32m   (...)\u001b[0m\n\u001b[1;32m    240\u001b[0m     \u001b[38;5;28;01melse\u001b[39;00m \u001b[38;5;28mtuple\u001b[39m()\n\u001b[1;32m    241\u001b[0m )\n\u001b[1;32m    243\u001b[0m grad_tensors_ \u001b[38;5;241m=\u001b[39m _tensor_or_tensors_to_tuple(grad_tensors, \u001b[38;5;28mlen\u001b[39m(tensors))\n\u001b[0;32m--> 244\u001b[0m grad_tensors_ \u001b[38;5;241m=\u001b[39m \u001b[43m_make_grads\u001b[49m\u001b[43m(\u001b[49m\u001b[43mtensors\u001b[49m\u001b[43m,\u001b[49m\u001b[43m \u001b[49m\u001b[43mgrad_tensors_\u001b[49m\u001b[43m,\u001b[49m\u001b[43m \u001b[49m\u001b[43mis_grads_batched\u001b[49m\u001b[38;5;241;43m=\u001b[39;49m\u001b[38;5;28;43;01mFalse\u001b[39;49;00m\u001b[43m)\u001b[49m\n\u001b[1;32m    245\u001b[0m \u001b[38;5;28;01mif\u001b[39;00m retain_graph \u001b[38;5;129;01mis\u001b[39;00m \u001b[38;5;28;01mNone\u001b[39;00m:\n\u001b[1;32m    246\u001b[0m     retain_graph \u001b[38;5;241m=\u001b[39m create_graph\n",
      "File \u001b[0;32m~/.venvTorch/lib/python3.11/site-packages/torch/autograd/__init__.py:117\u001b[0m, in \u001b[0;36m_make_grads\u001b[0;34m(outputs, grads, is_grads_batched)\u001b[0m\n\u001b[1;32m    115\u001b[0m \u001b[38;5;28;01mif\u001b[39;00m out\u001b[38;5;241m.\u001b[39mrequires_grad:\n\u001b[1;32m    116\u001b[0m     \u001b[38;5;28;01mif\u001b[39;00m out\u001b[38;5;241m.\u001b[39mnumel() \u001b[38;5;241m!=\u001b[39m \u001b[38;5;241m1\u001b[39m:\n\u001b[0;32m--> 117\u001b[0m         \u001b[38;5;28;01mraise\u001b[39;00m \u001b[38;5;167;01mRuntimeError\u001b[39;00m(\n\u001b[1;32m    118\u001b[0m             \u001b[38;5;124m\"\u001b[39m\u001b[38;5;124mgrad can be implicitly created only for scalar outputs\u001b[39m\u001b[38;5;124m\"\u001b[39m\n\u001b[1;32m    119\u001b[0m         )\n\u001b[1;32m    120\u001b[0m     \u001b[38;5;28;01mif\u001b[39;00m \u001b[38;5;129;01mnot\u001b[39;00m out\u001b[38;5;241m.\u001b[39mdtype\u001b[38;5;241m.\u001b[39mis_floating_point:\n\u001b[1;32m    121\u001b[0m         msg \u001b[38;5;241m=\u001b[39m (\n\u001b[1;32m    122\u001b[0m             \u001b[38;5;124m\"\u001b[39m\u001b[38;5;124mgrad can be implicitly created only for real scalar outputs\u001b[39m\u001b[38;5;124m\"\u001b[39m\n\u001b[1;32m    123\u001b[0m             \u001b[38;5;124mf\u001b[39m\u001b[38;5;124m\"\u001b[39m\u001b[38;5;124m but got \u001b[39m\u001b[38;5;132;01m{\u001b[39;00mout\u001b[38;5;241m.\u001b[39mdtype\u001b[38;5;132;01m}\u001b[39;00m\u001b[38;5;124m\"\u001b[39m\n\u001b[1;32m    124\u001b[0m         )\n",
      "\u001b[0;31mRuntimeError\u001b[0m: grad can be implicitly created only for scalar outputs"
     ]
    }
   ],
   "source": [
    "# We CANNOT caculate the gradients from multidimensional outputs, this is possible just using scalars\n",
    "# If we try, the error bellow occurs\n",
    "y.backward()"
   ]
  },
  {
   "cell_type": "markdown",
   "id": "15e86ed8-a10f-4544-bd53-be24bff943b6",
   "metadata": {},
   "source": [
    "# Now lets calculate the numeric values of a jacobian matrix using pytorch"
   ]
  },
  {
   "cell_type": "markdown",
   "id": "eea2c928-1aea-4f4b-a1b7-cf16d66010d8",
   "metadata": {},
   "source": [
    "Being the inputs 1 and 2 and the derivative with respect to x $2e^x$ and to y $3$ we have:"
   ]
  },
  {
   "cell_type": "code",
   "execution_count": 169,
   "id": "ffc316f7-ef93-499a-9991-d5f6e3c4086f",
   "metadata": {},
   "outputs": [
    {
     "name": "stdout",
     "output_type": "stream",
     "text": [
      "(tensor(1.), tensor(2.))\n"
     ]
    },
    {
     "data": {
      "text/plain": [
       "(tensor(5.4366), tensor(3.))"
      ]
     },
     "execution_count": 169,
     "metadata": {},
     "output_type": "execute_result"
    }
   ],
   "source": [
    "def exp_adder(x, y):\n",
    "    return 2 * x.exp() + 3 * y\n",
    "\n",
    "inputs = (torch.tensor(1.), torch.tensor(2.)) # arguments for the function\n",
    "print(inputs)\n",
    "torch.autograd.functional.jacobian(exp_adder, inputs)"
   ]
  },
  {
   "cell_type": "markdown",
   "id": "231ecb51-98a0-470f-92aa-43afb51b9940",
   "metadata": {},
   "source": [
    "$2.e^1$ and $3$"
   ]
  },
  {
   "cell_type": "code",
   "execution_count": null,
   "id": "a12182fe-8e84-49d0-8d9f-4c08c0756082",
   "metadata": {},
   "outputs": [],
   "source": []
  }
 ],
 "metadata": {
  "kernelspec": {
   "display_name": "Python 3 (ipykernel)",
   "language": "python",
   "name": "python3"
  },
  "language_info": {
   "codemirror_mode": {
    "name": "ipython",
    "version": 3
   },
   "file_extension": ".py",
   "mimetype": "text/x-python",
   "name": "python",
   "nbconvert_exporter": "python",
   "pygments_lexer": "ipython3",
   "version": "3.11.4"
  }
 },
 "nbformat": 4,
 "nbformat_minor": 5
}
