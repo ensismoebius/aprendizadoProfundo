{
 "cells": [
  {
   "cell_type": "code",
   "execution_count": 1,
   "id": "e50c44c6-6666-418a-81bb-ea4edb20da47",
   "metadata": {},
   "outputs": [],
   "source": [
    "import torch, torch.nn as nn\n",
    "import snntorch as snn\n",
    "from snntorch import surrogate\n",
    "import snntorch.functional as SF"
   ]
  },
  {
   "cell_type": "code",
   "execution_count": 2,
   "id": "58616126-c7a6-4a1a-bdbb-3e883c159a74",
   "metadata": {},
   "outputs": [],
   "source": [
    "class SNNModel(torch.nn.Module):\n",
    "    def __init__(self):\n",
    "        super(SNNModel, self).__init__()\n",
    "\n",
    "        beta = 0.9  # neuron decay rate \n",
    "        spike_grad = surrogate.fast_sigmoid() # fast sigmoid surrogate gradient\n",
    "\n",
    "\n",
    "        self.linearIn = nn.Linear(6, 10)\n",
    "        self.spike1 = snn.Leaky(beta=beta, spike_grad=spike_grad, init_hidden=True)\n",
    "        self.linearOut = nn.Linear(10, 27)\n",
    "        self.spike2 = snn.Leaky(beta=beta, spike_grad=spike_grad, init_hidden=True)\n",
    "\n",
    "        self.men = torch.zeros(1)\n",
    "        self.spk = torch.zeros(1)\n",
    "        self.steps = 4096;\n",
    "\n",
    "    def forward(self, x):\n",
    "        for step in range(self.steps):\n",
    "            self.spk = self.linearIn(x[step])\n",
    "            self.spk, self.men = self.spike1(self.spk, self.mem)\n",
    "            self.spk = self.linearOut()\n",
    "            self.spk, self.men = self.spike2(self.spk, self.mem)\n",
    "        return self.spk\n"
   ]
  },
  {
   "cell_type": "code",
   "execution_count": 3,
   "id": "e06d3f69-d04d-49f1-8b38-c9f9c1cb5a83",
   "metadata": {},
   "outputs": [
    {
     "data": {
      "text/plain": [
       "SNNModel(\n",
       "  (linearIn): Linear(in_features=6, out_features=10, bias=True)\n",
       "  (spike1): Leaky()\n",
       "  (linearOut): Linear(in_features=10, out_features=27, bias=True)\n",
       "  (spike2): Leaky()\n",
       ")"
      ]
     },
     "execution_count": 3,
     "metadata": {},
     "output_type": "execute_result"
    }
   ],
   "source": [
    "model = SNNModel()\n",
    "# Ensures that the networks runs with floats\n",
    "model.float()"
   ]
  },
  {
   "cell_type": "code",
   "execution_count": 4,
   "id": "3c8785a2-48f7-40bb-a65b-82250c630a45",
   "metadata": {},
   "outputs": [
    {
     "name": "stdout",
     "output_type": "stream",
     "text": [
      "Shape of training data: torch.Size([4, 6, 4096])\n"
     ]
    }
   ],
   "source": [
    "# Set random seed for reproducibility\n",
    "torch.manual_seed(42)\n",
    "\n",
    "# Define the parameters\n",
    "batch_size = 4\n",
    "num_channels = 6\n",
    "sequence_length = 4096\n",
    "\n",
    "# Generate fake training data\n",
    "training_data = torch.randn((batch_size, num_channels, sequence_length))\n",
    "\n",
    "# Print the shape of the generated data\n",
    "print(\"Shape of training data:\", training_data.shape)"
   ]
  },
  {
   "cell_type": "code",
   "execution_count": 5,
   "id": "9421f0b8-e40b-4645-bbb4-6fd290afe78b",
   "metadata": {},
   "outputs": [
    {
     "ename": "NameError",
     "evalue": "name 'utils' is not defined",
     "output_type": "error",
     "traceback": [
      "\u001b[0;31m---------------------------------------------------------------------------\u001b[0m",
      "\u001b[0;31mNameError\u001b[0m                                 Traceback (most recent call last)",
      "Cell \u001b[0;32mIn[5], line 2\u001b[0m\n\u001b[1;32m      1\u001b[0m model \u001b[38;5;241m=\u001b[39m SNNModel()\n\u001b[0;32m----> 2\u001b[0m \u001b[43mutils\u001b[49m\u001b[38;5;241m.\u001b[39mreset(model)\n\u001b[1;32m      3\u001b[0m optimizer \u001b[38;5;241m=\u001b[39m torch\u001b[38;5;241m.\u001b[39moptim\u001b[38;5;241m.\u001b[39mAdam(model\u001b[38;5;241m.\u001b[39mparameters(), lr\u001b[38;5;241m=\u001b[39m\u001b[38;5;241m2e-3\u001b[39m, betas\u001b[38;5;241m=\u001b[39m(\u001b[38;5;241m0.9\u001b[39m, \u001b[38;5;241m0.999\u001b[39m))\n\u001b[1;32m      4\u001b[0m loss_fn \u001b[38;5;241m=\u001b[39m SF\u001b[38;5;241m.\u001b[39mmse_count_loss(correct_rate\u001b[38;5;241m=\u001b[39m\u001b[38;5;241m0.8\u001b[39m, incorrect_rate\u001b[38;5;241m=\u001b[39m\u001b[38;5;241m0.2\u001b[39m)\n",
      "\u001b[0;31mNameError\u001b[0m: name 'utils' is not defined"
     ]
    }
   ],
   "source": [
    "model = SNNModel()\n",
    "utils.reset(model)\n",
    "optimizer = torch.optim.Adam(model.parameters(), lr=2e-3, betas=(0.9, 0.999))\n",
    "loss_fn = SF.mse_count_loss(correct_rate=0.8, incorrect_rate=0.2)\n",
    "num_epochs = 1\n",
    "\n",
    "for epoch in range(num_epochs):\n",
    "    optimizer.zero_grad()\n",
    "    output = model(training_data)\n",
    "    loss = loss_fn(output, target_data)\n",
    "    loss.backward()\n",
    "    optimizer.step()"
   ]
  },
  {
   "cell_type": "code",
   "execution_count": null,
   "id": "d8bc1d47-9f04-4f9b-b6ca-9a652e473a78",
   "metadata": {},
   "outputs": [],
   "source": []
  }
 ],
 "metadata": {
  "kernelspec": {
   "display_name": "Python 3 (ipykernel)",
   "language": "python",
   "name": "python3"
  },
  "language_info": {
   "codemirror_mode": {
    "name": "ipython",
    "version": 3
   },
   "file_extension": ".py",
   "mimetype": "text/x-python",
   "name": "python",
   "nbconvert_exporter": "python",
   "pygments_lexer": "ipython3",
   "version": "3.11.4"
  }
 },
 "nbformat": 4,
 "nbformat_minor": 5
}
