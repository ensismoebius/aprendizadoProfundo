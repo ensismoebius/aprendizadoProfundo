{
 "cells": [
  {
   "cell_type": "code",
   "execution_count": 1,
   "id": "366a559c-e1b8-45be-837c-a14770ac5e7b",
   "metadata": {},
   "outputs": [],
   "source": [
    "import torch, torch.nn as nn\n",
    "import snntorch as snn"
   ]
  },
  {
   "cell_type": "code",
   "execution_count": 2,
   "id": "ca2fe06a-720e-4698-8f23-4e1e51da647e",
   "metadata": {},
   "outputs": [],
   "source": [
    "batch_size = 128\n",
    "data_path='/tmp/data/mnist'\n",
    "# device = torch.device(\"cuda\") if torch.cuda.is_available() else torch.device(\"cpu\")\n",
    "device = torch.device(\"cpu\")"
   ]
  },
  {
   "cell_type": "code",
   "execution_count": 3,
   "id": "596632cf-f1f1-46e9-8a50-0ffc3e8effc0",
   "metadata": {},
   "outputs": [
    {
     "data": {
      "text/plain": [
       "device(type='cpu')"
      ]
     },
     "execution_count": 3,
     "metadata": {},
     "output_type": "execute_result"
    }
   ],
   "source": [
    "device"
   ]
  },
  {
   "cell_type": "code",
   "execution_count": 4,
   "id": "61efcb06-449f-47fc-8c37-75ebebb1eb45",
   "metadata": {},
   "outputs": [],
   "source": [
    "from torch.utils.data import DataLoader\n",
    "from torchvision import datasets, transforms\n",
    "\n",
    "# Define a transform\n",
    "transform = transforms.Compose([\n",
    "            transforms.Resize((28, 28)),\n",
    "            transforms.Grayscale(),\n",
    "            transforms.ToTensor(),\n",
    "            transforms.Normalize((0,), (1,))])\n",
    "\n",
    "mnist_train = datasets.MNIST(data_path, train=True, download=True, transform=transform)\n",
    "mnist_test = datasets.MNIST(data_path, train=False, download=True, transform=transform)\n",
    "\n",
    "# Create DataLoaders\n",
    "train_loader = DataLoader(mnist_train, batch_size=batch_size, shuffle=True)\n",
    "test_loader = DataLoader(mnist_test, batch_size=batch_size, shuffle=True)"
   ]
  },
  {
   "cell_type": "code",
   "execution_count": 5,
   "id": "c011a015-f93e-47ba-b0be-d07b5b63ff77",
   "metadata": {},
   "outputs": [],
   "source": [
    "from snntorch import surrogate\n",
    "\n",
    "beta = 0.9  # neuron decay rate \n",
    "spike_grad = surrogate.fast_sigmoid() # fast sigmoid surrogate gradient\n",
    "\n",
    "#  Initialize Convolutional SNN\n",
    "net = nn.Sequential(nn.Conv2d(1, 8, 5),\n",
    "                    nn.MaxPool2d(2),\n",
    "                    snn.Leaky(beta=beta, spike_grad=spike_grad, init_hidden=True),\n",
    "                    nn.Conv2d(8, 16, 5),\n",
    "                    nn.MaxPool2d(2),\n",
    "                    snn.Leaky(beta=beta, spike_grad=spike_grad, init_hidden=True),\n",
    "                    nn.Flatten(),\n",
    "                    nn.Linear(16*4*4, 10),\n",
    "                    snn.Leaky(beta=beta, spike_grad=spike_grad, init_hidden=True, output=True)\n",
    "                    ).to(device)"
   ]
  },
  {
   "cell_type": "code",
   "execution_count": 6,
   "id": "ba4f3372-d166-4cb9-9621-3f29e06fcc87",
   "metadata": {},
   "outputs": [
    {
     "data": {
      "text/plain": [
       "Sequential(\n",
       "  (0): Conv2d(1, 8, kernel_size=(5, 5), stride=(1, 1))\n",
       "  (1): MaxPool2d(kernel_size=2, stride=2, padding=0, dilation=1, ceil_mode=False)\n",
       "  (2): Leaky()\n",
       "  (3): Conv2d(8, 16, kernel_size=(5, 5), stride=(1, 1))\n",
       "  (4): MaxPool2d(kernel_size=2, stride=2, padding=0, dilation=1, ceil_mode=False)\n",
       "  (5): Leaky()\n",
       "  (6): Flatten(start_dim=1, end_dim=-1)\n",
       "  (7): Linear(in_features=256, out_features=10, bias=True)\n",
       "  (8): Leaky()\n",
       ")"
      ]
     },
     "execution_count": 6,
     "metadata": {},
     "output_type": "execute_result"
    }
   ],
   "source": [
    "net"
   ]
  },
  {
   "cell_type": "code",
   "execution_count": 7,
   "id": "1c2f9add-38bc-4ad6-83c9-b1ef61a98c7e",
   "metadata": {},
   "outputs": [],
   "source": [
    "from snntorch import utils \n",
    "\n",
    "def forward_pass(net, data, num_steps):  \n",
    "  spk_rec = [] # record spikes over time\n",
    "  utils.reset(net)  # reset/initialize hidden states for all LIF neurons in net\n",
    "\n",
    "  for step in range(num_steps): # loop over time\n",
    "      spk_out, mem_out = net(data) # one time step of the forward-pass\n",
    "      spk_rec.append(spk_out) # record spikes\n",
    "  \n",
    "  return torch.stack(spk_rec)"
   ]
  },
  {
   "cell_type": "code",
   "execution_count": 8,
   "id": "a83131e9-221a-4bba-b508-2b1a4863b4a9",
   "metadata": {},
   "outputs": [],
   "source": [
    "import snntorch.functional as SF\n",
    "\n",
    "optimizer = torch.optim.Adam(net.parameters(), lr=2e-3, betas=(0.9, 0.999))\n",
    "loss_fn = SF.mse_count_loss(correct_rate=0.8, incorrect_rate=0.2)"
   ]
  },
  {
   "cell_type": "code",
   "execution_count": 9,
   "id": "e588af30-7224-42e8-89bc-cf1a5a6786cb",
   "metadata": {},
   "outputs": [
    {
     "name": "stdout",
     "output_type": "stream",
     "text": [
      "Epoch 0, Iteration 0 \n",
      "Train Loss: 2.42\n",
      "Accuracy: 4.69%\n",
      "\n",
      "Epoch 0, Iteration 25 \n",
      "Train Loss: 0.72\n",
      "Accuracy: 43.75%\n",
      "\n",
      "Epoch 0, Iteration 50 \n",
      "Train Loss: 0.44\n",
      "Accuracy: 74.22%\n",
      "\n",
      "Epoch 0, Iteration 75 \n",
      "Train Loss: 0.40\n",
      "Accuracy: 87.50%\n",
      "\n",
      "Epoch 0, Iteration 100 \n",
      "Train Loss: 0.33\n",
      "Accuracy: 85.16%\n",
      "\n",
      "Epoch 0, Iteration 125 \n",
      "Train Loss: 0.28\n",
      "Accuracy: 89.84%\n",
      "\n",
      "Epoch 0, Iteration 150 \n",
      "Train Loss: 0.23\n",
      "Accuracy: 96.88%\n",
      "\n",
      "Epoch 0, Iteration 175 \n",
      "Train Loss: 0.23\n",
      "Accuracy: 91.41%\n",
      "\n",
      "Epoch 0, Iteration 200 \n",
      "Train Loss: 0.23\n",
      "Accuracy: 93.75%\n",
      "\n",
      "Epoch 0, Iteration 225 \n",
      "Train Loss: 0.21\n",
      "Accuracy: 92.97%\n",
      "\n",
      "Epoch 0, Iteration 250 \n",
      "Train Loss: 0.20\n",
      "Accuracy: 93.75%\n",
      "\n",
      "Epoch 0, Iteration 275 \n",
      "Train Loss: 0.20\n",
      "Accuracy: 96.88%\n",
      "\n",
      "Epoch 0, Iteration 300 \n",
      "Train Loss: 0.20\n",
      "Accuracy: 94.53%\n",
      "\n",
      "Epoch 0, Iteration 325 \n",
      "Train Loss: 0.21\n",
      "Accuracy: 93.75%\n",
      "\n",
      "Epoch 0, Iteration 350 \n",
      "Train Loss: 0.20\n",
      "Accuracy: 95.31%\n",
      "\n",
      "Epoch 0, Iteration 375 \n",
      "Train Loss: 0.14\n",
      "Accuracy: 100.00%\n",
      "\n",
      "Epoch 0, Iteration 400 \n",
      "Train Loss: 0.17\n",
      "Accuracy: 95.31%\n",
      "\n",
      "Epoch 0, Iteration 425 \n",
      "Train Loss: 0.20\n",
      "Accuracy: 92.97%\n",
      "\n",
      "Epoch 0, Iteration 450 \n",
      "Train Loss: 0.15\n",
      "Accuracy: 98.44%\n",
      "\n"
     ]
    }
   ],
   "source": [
    "num_epochs = 1 # run for 1 epoch - each data sample is seen only once\n",
    "num_steps = 25  # run for 25 time steps \n",
    "\n",
    "loss_hist = [] # record loss over iterations \n",
    "acc_hist = [] # record accuracy over iterations\n",
    "\n",
    "# training loop\n",
    "for epoch in range(num_epochs):\n",
    "    for i, (data, targets) in enumerate(iter(train_loader)):\n",
    "        data = data.to(device)\n",
    "        targets = targets.to(device)\n",
    "\n",
    "        net.train() \n",
    "        spk_rec = forward_pass(net, data, num_steps) # forward-pass\n",
    "        loss_val = loss_fn(spk_rec, targets) # loss calculation\n",
    "        optimizer.zero_grad() # null gradients\n",
    "        loss_val.backward() # calculate gradients\n",
    "        optimizer.step() # update weights\n",
    "        loss_hist.append(loss_val.item()) # store loss\n",
    "\n",
    "        # print every 25 iterations\n",
    "        if i % 25 == 0:\n",
    "          print(f\"Epoch {epoch}, Iteration {i} \\nTrain Loss: {loss_val.item():.2f}\")\n",
    "\n",
    "          # check accuracy on a single batch\n",
    "          acc = SF.accuracy_rate(spk_rec, targets) \n",
    "          acc_hist.append(acc)\n",
    "          print(f\"Accuracy: {acc * 100:.2f}%\\n\")\n",
    "        \n",
    "        # uncomment for faster termination\n",
    "        # if i == 150:\n",
    "        #     break\n"
   ]
  },
  {
   "cell_type": "code",
   "execution_count": null,
   "id": "7aa3d19b-e85a-470d-8fcb-ba8369c470d4",
   "metadata": {},
   "outputs": [],
   "source": []
  }
 ],
 "metadata": {
  "kernelspec": {
   "display_name": "Python 3 (ipykernel)",
   "language": "python",
   "name": "python3"
  },
  "language_info": {
   "codemirror_mode": {
    "name": "ipython",
    "version": 3
   },
   "file_extension": ".py",
   "mimetype": "text/x-python",
   "name": "python",
   "nbconvert_exporter": "python",
   "pygments_lexer": "ipython3",
   "version": "3.11.4"
  }
 },
 "nbformat": 4,
 "nbformat_minor": 5
}
